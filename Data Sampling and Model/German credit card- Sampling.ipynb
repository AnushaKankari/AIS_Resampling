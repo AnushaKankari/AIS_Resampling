{
 "cells": [
  {
   "cell_type": "code",
   "execution_count": 1,
   "metadata": {},
   "outputs": [],
   "source": [
    "import pandas as pd\n",
    "import matplotlib.pyplot as plt\n",
    "import seaborn as sns"
   ]
  },
  {
   "cell_type": "code",
   "execution_count": 2,
   "metadata": {},
   "outputs": [
    {
     "data": {
      "text/html": [
       "<div>\n",
       "<style scoped>\n",
       "    .dataframe tbody tr th:only-of-type {\n",
       "        vertical-align: middle;\n",
       "    }\n",
       "\n",
       "    .dataframe tbody tr th {\n",
       "        vertical-align: top;\n",
       "    }\n",
       "\n",
       "    .dataframe thead th {\n",
       "        text-align: right;\n",
       "    }\n",
       "</style>\n",
       "<table border=\"1\" class=\"dataframe\">\n",
       "  <thead>\n",
       "    <tr style=\"text-align: right;\">\n",
       "      <th></th>\n",
       "      <th>Age</th>\n",
       "      <th>Sex</th>\n",
       "      <th>Job</th>\n",
       "      <th>Housing</th>\n",
       "      <th>Saving accounts</th>\n",
       "      <th>Checking account</th>\n",
       "      <th>Credit amount</th>\n",
       "      <th>Duration</th>\n",
       "      <th>Purpose</th>\n",
       "      <th>Risk</th>\n",
       "    </tr>\n",
       "  </thead>\n",
       "  <tbody>\n",
       "    <tr>\n",
       "      <th>0</th>\n",
       "      <td>67</td>\n",
       "      <td>male</td>\n",
       "      <td>2</td>\n",
       "      <td>own</td>\n",
       "      <td>NaN</td>\n",
       "      <td>little</td>\n",
       "      <td>1169</td>\n",
       "      <td>6</td>\n",
       "      <td>radio/TV</td>\n",
       "      <td>good</td>\n",
       "    </tr>\n",
       "    <tr>\n",
       "      <th>1</th>\n",
       "      <td>22</td>\n",
       "      <td>female</td>\n",
       "      <td>2</td>\n",
       "      <td>own</td>\n",
       "      <td>little</td>\n",
       "      <td>moderate</td>\n",
       "      <td>5951</td>\n",
       "      <td>48</td>\n",
       "      <td>radio/TV</td>\n",
       "      <td>bad</td>\n",
       "    </tr>\n",
       "    <tr>\n",
       "      <th>2</th>\n",
       "      <td>49</td>\n",
       "      <td>male</td>\n",
       "      <td>1</td>\n",
       "      <td>own</td>\n",
       "      <td>little</td>\n",
       "      <td>NaN</td>\n",
       "      <td>2096</td>\n",
       "      <td>12</td>\n",
       "      <td>education</td>\n",
       "      <td>good</td>\n",
       "    </tr>\n",
       "    <tr>\n",
       "      <th>3</th>\n",
       "      <td>45</td>\n",
       "      <td>male</td>\n",
       "      <td>2</td>\n",
       "      <td>free</td>\n",
       "      <td>little</td>\n",
       "      <td>little</td>\n",
       "      <td>7882</td>\n",
       "      <td>42</td>\n",
       "      <td>furniture/equipment</td>\n",
       "      <td>good</td>\n",
       "    </tr>\n",
       "    <tr>\n",
       "      <th>4</th>\n",
       "      <td>53</td>\n",
       "      <td>male</td>\n",
       "      <td>2</td>\n",
       "      <td>free</td>\n",
       "      <td>little</td>\n",
       "      <td>little</td>\n",
       "      <td>4870</td>\n",
       "      <td>24</td>\n",
       "      <td>car</td>\n",
       "      <td>bad</td>\n",
       "    </tr>\n",
       "    <tr>\n",
       "      <th>...</th>\n",
       "      <td>...</td>\n",
       "      <td>...</td>\n",
       "      <td>...</td>\n",
       "      <td>...</td>\n",
       "      <td>...</td>\n",
       "      <td>...</td>\n",
       "      <td>...</td>\n",
       "      <td>...</td>\n",
       "      <td>...</td>\n",
       "      <td>...</td>\n",
       "    </tr>\n",
       "    <tr>\n",
       "      <th>995</th>\n",
       "      <td>31</td>\n",
       "      <td>female</td>\n",
       "      <td>1</td>\n",
       "      <td>own</td>\n",
       "      <td>little</td>\n",
       "      <td>NaN</td>\n",
       "      <td>1736</td>\n",
       "      <td>12</td>\n",
       "      <td>furniture/equipment</td>\n",
       "      <td>good</td>\n",
       "    </tr>\n",
       "    <tr>\n",
       "      <th>996</th>\n",
       "      <td>40</td>\n",
       "      <td>male</td>\n",
       "      <td>3</td>\n",
       "      <td>own</td>\n",
       "      <td>little</td>\n",
       "      <td>little</td>\n",
       "      <td>3857</td>\n",
       "      <td>30</td>\n",
       "      <td>car</td>\n",
       "      <td>good</td>\n",
       "    </tr>\n",
       "    <tr>\n",
       "      <th>997</th>\n",
       "      <td>38</td>\n",
       "      <td>male</td>\n",
       "      <td>2</td>\n",
       "      <td>own</td>\n",
       "      <td>little</td>\n",
       "      <td>NaN</td>\n",
       "      <td>804</td>\n",
       "      <td>12</td>\n",
       "      <td>radio/TV</td>\n",
       "      <td>good</td>\n",
       "    </tr>\n",
       "    <tr>\n",
       "      <th>998</th>\n",
       "      <td>23</td>\n",
       "      <td>male</td>\n",
       "      <td>2</td>\n",
       "      <td>free</td>\n",
       "      <td>little</td>\n",
       "      <td>little</td>\n",
       "      <td>1845</td>\n",
       "      <td>45</td>\n",
       "      <td>radio/TV</td>\n",
       "      <td>bad</td>\n",
       "    </tr>\n",
       "    <tr>\n",
       "      <th>999</th>\n",
       "      <td>27</td>\n",
       "      <td>male</td>\n",
       "      <td>2</td>\n",
       "      <td>own</td>\n",
       "      <td>moderate</td>\n",
       "      <td>moderate</td>\n",
       "      <td>4576</td>\n",
       "      <td>45</td>\n",
       "      <td>car</td>\n",
       "      <td>good</td>\n",
       "    </tr>\n",
       "  </tbody>\n",
       "</table>\n",
       "<p>1000 rows × 10 columns</p>\n",
       "</div>"
      ],
      "text/plain": [
       "     Age     Sex  Job Housing Saving accounts Checking account  Credit amount  \\\n",
       "0     67    male    2     own             NaN           little           1169   \n",
       "1     22  female    2     own          little         moderate           5951   \n",
       "2     49    male    1     own          little              NaN           2096   \n",
       "3     45    male    2    free          little           little           7882   \n",
       "4     53    male    2    free          little           little           4870   \n",
       "..   ...     ...  ...     ...             ...              ...            ...   \n",
       "995   31  female    1     own          little              NaN           1736   \n",
       "996   40    male    3     own          little           little           3857   \n",
       "997   38    male    2     own          little              NaN            804   \n",
       "998   23    male    2    free          little           little           1845   \n",
       "999   27    male    2     own        moderate         moderate           4576   \n",
       "\n",
       "     Duration              Purpose  Risk  \n",
       "0           6             radio/TV  good  \n",
       "1          48             radio/TV   bad  \n",
       "2          12            education  good  \n",
       "3          42  furniture/equipment  good  \n",
       "4          24                  car   bad  \n",
       "..        ...                  ...   ...  \n",
       "995        12  furniture/equipment  good  \n",
       "996        30                  car  good  \n",
       "997        12             radio/TV  good  \n",
       "998        45             radio/TV   bad  \n",
       "999        45                  car  good  \n",
       "\n",
       "[1000 rows x 10 columns]"
      ]
     },
     "execution_count": 2,
     "metadata": {},
     "output_type": "execute_result"
    }
   ],
   "source": [
    "missing_values = [\"n/a\", \"na\", \"--\", \"?\"]\n",
    "df = pd.read_csv('C:/Users/kanka/OneDrive/Desktop/Final Project/Datasets/germancredit.csv',  delimiter=',', na_values = missing_values)\n",
    "\n",
    "df\n",
    "\n"
   ]
  },
  {
   "cell_type": "code",
   "execution_count": 3,
   "metadata": {},
   "outputs": [
    {
     "name": "stdout",
     "output_type": "stream",
     "text": [
      "<class 'pandas.core.frame.DataFrame'>\n",
      "RangeIndex: 1000 entries, 0 to 999\n",
      "Data columns (total 10 columns):\n",
      " #   Column            Non-Null Count  Dtype \n",
      "---  ------            --------------  ----- \n",
      " 0   Age               1000 non-null   int64 \n",
      " 1   Sex               1000 non-null   object\n",
      " 2   Job               1000 non-null   int64 \n",
      " 3   Housing           1000 non-null   object\n",
      " 4   Saving accounts   817 non-null    object\n",
      " 5   Checking account  606 non-null    object\n",
      " 6   Credit amount     1000 non-null   int64 \n",
      " 7   Duration          1000 non-null   int64 \n",
      " 8   Purpose           1000 non-null   object\n",
      " 9   Risk              1000 non-null   object\n",
      "dtypes: int64(4), object(6)\n",
      "memory usage: 78.2+ KB\n"
     ]
    }
   ],
   "source": [
    "df.info()"
   ]
  },
  {
   "cell_type": "code",
   "execution_count": 4,
   "metadata": {},
   "outputs": [
    {
     "name": "stdout",
     "output_type": "stream",
     "text": [
      "Age                   0\n",
      "Sex                   0\n",
      "Job                   0\n",
      "Housing               0\n",
      "Saving accounts     183\n",
      "Checking account    394\n",
      "Credit amount         0\n",
      "Duration              0\n",
      "Purpose               0\n",
      "Risk                  0\n",
      "dtype: int64\n"
     ]
    },
    {
     "data": {
      "image/png": "[encoded data removed]",
      "text/plain": [
       "<Figure size 432x288 with 1 Axes>"
      ]
     },
     "metadata": {
      "needs_background": "light"
     },
     "output_type": "display_data"
    }
   ],
   "source": [
    "c = df.isnull().sum()\n",
    "plt.title(\"Missing data statistics\")\n",
    "c.plot(kind='bar')\n",
    "print(c)"
   ]
  },
  {
   "cell_type": "markdown",
   "metadata": {},
   "source": [
    "from sklearn.impute import KNNImputer\n",
    "imputer = KNNImputer(n_neighbors = 2)\n",
    "df = pd.DataFrame(imputer.fit_transform(df),columns = df.columns)"
   ]
  },
  {
   "cell_type": "code",
   "execution_count": 5,
   "metadata": {},
   "outputs": [],
   "source": [
    "for col in ['Saving accounts', 'Checking account']:\n",
    "    df[col].fillna('no_accounts', inplace=True)"
   ]
  },
  {
   "cell_type": "code",
   "execution_count": 6,
   "metadata": {},
   "outputs": [
    {
     "name": "stdout",
     "output_type": "stream",
     "text": [
      "Age                 0\n",
      "Sex                 0\n",
      "Job                 0\n",
      "Housing             0\n",
      "Saving accounts     0\n",
      "Checking account    0\n",
      "Credit amount       0\n",
      "Duration            0\n",
      "Purpose             0\n",
      "Risk                0\n",
      "dtype: int64\n"
     ]
    },
    {
     "data": {
      "image/png": "[encoded data removed]",
      "text/plain": [
       "<Figure size 432x288 with 1 Axes>"
      ]
     },
     "metadata": {
      "needs_background": "light"
     },
     "output_type": "display_data"
    }
   ],
   "source": [
    "c = df.isnull().sum()\n",
    "plt.title(\"Missing data statistics\")\n",
    "c.plot(kind='bar')\n",
    "print(c)"
   ]
  },
  {
   "cell_type": "code",
   "execution_count": 7,
   "metadata": {},
   "outputs": [
    {
     "name": "stdout",
     "output_type": "stream",
     "text": [
      "<class 'pandas.core.frame.DataFrame'>\n",
      "RangeIndex: 1000 entries, 0 to 999\n",
      "Data columns (total 10 columns):\n",
      " #   Column            Non-Null Count  Dtype \n",
      "---  ------            --------------  ----- \n",
      " 0   Age               1000 non-null   int64 \n",
      " 1   Sex               1000 non-null   object\n",
      " 2   Job               1000 non-null   int64 \n",
      " 3   Housing           1000 non-null   object\n",
      " 4   Saving accounts   1000 non-null   object\n",
      " 5   Checking account  1000 non-null   object\n",
      " 6   Credit amount     1000 non-null   int64 \n",
      " 7   Duration          1000 non-null   int64 \n",
      " 8   Purpose           1000 non-null   object\n",
      " 9   Risk              1000 non-null   object\n",
      "dtypes: int64(4), object(6)\n",
      "memory usage: 78.2+ KB\n"
     ]
    }
   ],
   "source": [
    "df.info()"
   ]
  },
  {
   "cell_type": "code",
   "execution_count": 8,
   "metadata": {},
   "outputs": [
    {
     "data": {
      "text/html": [
       "<div>\n",
       "<style scoped>\n",
       "    .dataframe tbody tr th:only-of-type {\n",
       "        vertical-align: middle;\n",
       "    }\n",
       "\n",
       "    .dataframe tbody tr th {\n",
       "        vertical-align: top;\n",
       "    }\n",
       "\n",
       "    .dataframe thead th {\n",
       "        text-align: right;\n",
       "    }\n",
       "</style>\n",
       "<table border=\"1\" class=\"dataframe\">\n",
       "  <thead>\n",
       "    <tr style=\"text-align: right;\">\n",
       "      <th></th>\n",
       "      <th>Age</th>\n",
       "      <th>Job</th>\n",
       "      <th>Credit amount</th>\n",
       "      <th>Duration</th>\n",
       "      <th>Risk</th>\n",
       "      <th>Purpose_car</th>\n",
       "      <th>Purpose_domestic appliances</th>\n",
       "      <th>Purpose_education</th>\n",
       "      <th>Purpose_furniture/equipment</th>\n",
       "      <th>Purpose_radio/TV</th>\n",
       "      <th>...</th>\n",
       "      <th>Sex_male</th>\n",
       "      <th>Housing_own</th>\n",
       "      <th>Housing_rent</th>\n",
       "      <th>Saving accounts_moderate</th>\n",
       "      <th>Saving accounts_no_accounts</th>\n",
       "      <th>Saving accounts_quite rich</th>\n",
       "      <th>Saving accounts_rich</th>\n",
       "      <th>Checking account_moderate</th>\n",
       "      <th>Checking account_no_accounts</th>\n",
       "      <th>Checking account_rich</th>\n",
       "    </tr>\n",
       "  </thead>\n",
       "  <tbody>\n",
       "    <tr>\n",
       "      <th>0</th>\n",
       "      <td>67</td>\n",
       "      <td>2</td>\n",
       "      <td>1169</td>\n",
       "      <td>6</td>\n",
       "      <td>0</td>\n",
       "      <td>0</td>\n",
       "      <td>0</td>\n",
       "      <td>0</td>\n",
       "      <td>0</td>\n",
       "      <td>1</td>\n",
       "      <td>...</td>\n",
       "      <td>1</td>\n",
       "      <td>1</td>\n",
       "      <td>0</td>\n",
       "      <td>0</td>\n",
       "      <td>1</td>\n",
       "      <td>0</td>\n",
       "      <td>0</td>\n",
       "      <td>0</td>\n",
       "      <td>0</td>\n",
       "      <td>0</td>\n",
       "    </tr>\n",
       "    <tr>\n",
       "      <th>1</th>\n",
       "      <td>22</td>\n",
       "      <td>2</td>\n",
       "      <td>5951</td>\n",
       "      <td>48</td>\n",
       "      <td>1</td>\n",
       "      <td>0</td>\n",
       "      <td>0</td>\n",
       "      <td>0</td>\n",
       "      <td>0</td>\n",
       "      <td>1</td>\n",
       "      <td>...</td>\n",
       "      <td>0</td>\n",
       "      <td>1</td>\n",
       "      <td>0</td>\n",
       "      <td>0</td>\n",
       "      <td>0</td>\n",
       "      <td>0</td>\n",
       "      <td>0</td>\n",
       "      <td>1</td>\n",
       "      <td>0</td>\n",
       "      <td>0</td>\n",
       "    </tr>\n",
       "    <tr>\n",
       "      <th>2</th>\n",
       "      <td>49</td>\n",
       "      <td>1</td>\n",
       "      <td>2096</td>\n",
       "      <td>12</td>\n",
       "      <td>0</td>\n",
       "      <td>0</td>\n",
       "      <td>0</td>\n",
       "      <td>1</td>\n",
       "      <td>0</td>\n",
       "      <td>0</td>\n",
       "      <td>...</td>\n",
       "      <td>1</td>\n",
       "      <td>1</td>\n",
       "      <td>0</td>\n",
       "      <td>0</td>\n",
       "      <td>0</td>\n",
       "      <td>0</td>\n",
       "      <td>0</td>\n",
       "      <td>0</td>\n",
       "      <td>1</td>\n",
       "      <td>0</td>\n",
       "    </tr>\n",
       "    <tr>\n",
       "      <th>3</th>\n",
       "      <td>45</td>\n",
       "      <td>2</td>\n",
       "      <td>7882</td>\n",
       "      <td>42</td>\n",
       "      <td>0</td>\n",
       "      <td>0</td>\n",
       "      <td>0</td>\n",
       "      <td>0</td>\n",
       "      <td>1</td>\n",
       "      <td>0</td>\n",
       "      <td>...</td>\n",
       "      <td>1</td>\n",
       "      <td>0</td>\n",
       "      <td>0</td>\n",
       "      <td>0</td>\n",
       "      <td>0</td>\n",
       "      <td>0</td>\n",
       "      <td>0</td>\n",
       "      <td>0</td>\n",
       "      <td>0</td>\n",
       "      <td>0</td>\n",
       "    </tr>\n",
       "    <tr>\n",
       "      <th>4</th>\n",
       "      <td>53</td>\n",
       "      <td>2</td>\n",
       "      <td>4870</td>\n",
       "      <td>24</td>\n",
       "      <td>1</td>\n",
       "      <td>1</td>\n",
       "      <td>0</td>\n",
       "      <td>0</td>\n",
       "      <td>0</td>\n",
       "      <td>0</td>\n",
       "      <td>...</td>\n",
       "      <td>1</td>\n",
       "      <td>0</td>\n",
       "      <td>0</td>\n",
       "      <td>0</td>\n",
       "      <td>0</td>\n",
       "      <td>0</td>\n",
       "      <td>0</td>\n",
       "      <td>0</td>\n",
       "      <td>0</td>\n",
       "      <td>0</td>\n",
       "    </tr>\n",
       "  </tbody>\n",
       "</table>\n",
       "<p>5 rows × 22 columns</p>\n",
       "</div>"
      ],
      "text/plain": [
       "   Age  Job  Credit amount  Duration  Risk  Purpose_car  \\\n",
       "0   67    2           1169         6     0            0   \n",
       "1   22    2           5951        48     1            0   \n",
       "2   49    1           2096        12     0            0   \n",
       "3   45    2           7882        42     0            0   \n",
       "4   53    2           4870        24     1            1   \n",
       "\n",
       "   Purpose_domestic appliances  Purpose_education  \\\n",
       "0                            0                  0   \n",
       "1                            0                  0   \n",
       "2                            0                  1   \n",
       "3                            0                  0   \n",
       "4                            0                  0   \n",
       "\n",
       "   Purpose_furniture/equipment  Purpose_radio/TV  ...  Sex_male  Housing_own  \\\n",
       "0                            0                 1  ...         1            1   \n",
       "1                            0                 1  ...         0            1   \n",
       "2                            0                 0  ...         1            1   \n",
       "3                            1                 0  ...         1            0   \n",
       "4                            0                 0  ...         1            0   \n",
       "\n",
       "   Housing_rent  Saving accounts_moderate  Saving accounts_no_accounts  \\\n",
       "0             0                         0                            1   \n",
       "1             0                         0                            0   \n",
       "2             0                         0                            0   \n",
       "3             0                         0                            0   \n",
       "4             0                         0                            0   \n",
       "\n",
       "   Saving accounts_quite rich  Saving accounts_rich  \\\n",
       "0                           0                     0   \n",
       "1                           0                     0   \n",
       "2                           0                     0   \n",
       "3                           0                     0   \n",
       "4                           0                     0   \n",
       "\n",
       "   Checking account_moderate  Checking account_no_accounts  \\\n",
       "0                          0                             0   \n",
       "1                          1                             0   \n",
       "2                          0                             1   \n",
       "3                          0                             0   \n",
       "4                          0                             0   \n",
       "\n",
       "   Checking account_rich  \n",
       "0                      0  \n",
       "1                      0  \n",
       "2                      0  \n",
       "3                      0  \n",
       "4                      0  \n",
       "\n",
       "[5 rows x 22 columns]"
      ]
     },
     "execution_count": 8,
     "metadata": {},
     "output_type": "execute_result"
    }
   ],
   "source": [
    "# getting dummies for all the categorical variables\n",
    "dummies_columns = ['Purpose', 'Sex', 'Housing', 'Saving accounts', 'Checking account']\n",
    "for col in dummies_columns:\n",
    "    df = df.merge(pd.get_dummies(df[col], drop_first=True, prefix=str(col)), left_index=True, right_index=True) \n",
    "\n",
    "# encoding risk as binary\n",
    "r = {\"good\":0, \"bad\": 1}\n",
    "df['Risk'] = df['Risk'].map(r)\n",
    "\n",
    "# drop redundant variables\n",
    "columns_to_drop = ['Purpose','Sex','Housing','Saving accounts','Checking account']\n",
    "df.drop(columns_to_drop, axis=1, inplace=True)\n",
    "\n",
    "df.head()\n"
   ]
  },
  {
   "cell_type": "code",
   "execution_count": 9,
   "metadata": {},
   "outputs": [
    {
     "name": "stdout",
     "output_type": "stream",
     "text": [
      "<class 'pandas.core.frame.DataFrame'>\n",
      "RangeIndex: 1000 entries, 0 to 999\n",
      "Data columns (total 22 columns):\n",
      " #   Column                        Non-Null Count  Dtype\n",
      "---  ------                        --------------  -----\n",
      " 0   Age                           1000 non-null   int64\n",
      " 1   Job                           1000 non-null   int64\n",
      " 2   Credit amount                 1000 non-null   int64\n",
      " 3   Duration                      1000 non-null   int64\n",
      " 4   Risk                          1000 non-null   int64\n",
      " 5   Purpose_car                   1000 non-null   uint8\n",
      " 6   Purpose_domestic appliances   1000 non-null   uint8\n",
      " 7   Purpose_education             1000 non-null   uint8\n",
      " 8   Purpose_furniture/equipment   1000 non-null   uint8\n",
      " 9   Purpose_radio/TV              1000 non-null   uint8\n",
      " 10  Purpose_repairs               1000 non-null   uint8\n",
      " 11  Purpose_vacation/others       1000 non-null   uint8\n",
      " 12  Sex_male                      1000 non-null   uint8\n",
      " 13  Housing_own                   1000 non-null   uint8\n",
      " 14  Housing_rent                  1000 non-null   uint8\n",
      " 15  Saving accounts_moderate      1000 non-null   uint8\n",
      " 16  Saving accounts_no_accounts   1000 non-null   uint8\n",
      " 17  Saving accounts_quite rich    1000 non-null   uint8\n",
      " 18  Saving accounts_rich          1000 non-null   uint8\n",
      " 19  Checking account_moderate     1000 non-null   uint8\n",
      " 20  Checking account_no_accounts  1000 non-null   uint8\n",
      " 21  Checking account_rich         1000 non-null   uint8\n",
      "dtypes: int64(5), uint8(17)\n",
      "memory usage: 55.8 KB\n"
     ]
    }
   ],
   "source": [
    "df.info()"
   ]
  },
  {
   "cell_type": "code",
   "execution_count": 16,
   "metadata": {
    "scrolled": true
   },
   "outputs": [
    {
     "name": "stdout",
     "output_type": "stream",
     "text": [
      "     Age  Job  Credit amount  Duration  Purpose_car  \\\n",
      "0     67    2           1169         6            0   \n",
      "1     22    2           5951        48            0   \n",
      "2     49    1           2096        12            0   \n",
      "3     45    2           7882        42            0   \n",
      "4     53    2           4870        24            1   \n",
      "..   ...  ...            ...       ...          ...   \n",
      "995   31    1           1736        12            0   \n",
      "996   40    3           3857        30            1   \n",
      "997   38    2            804        12            0   \n",
      "998   23    2           1845        45            0   \n",
      "999   27    2           4576        45            1   \n",
      "\n",
      "     Purpose_domestic appliances  Purpose_education  \\\n",
      "0                              0                  0   \n",
      "1                              0                  0   \n",
      "2                              0                  1   \n",
      "3                              0                  0   \n",
      "4                              0                  0   \n",
      "..                           ...                ...   \n",
      "995                            0                  0   \n",
      "996                            0                  0   \n",
      "997                            0                  0   \n",
      "998                            0                  0   \n",
      "999                            0                  0   \n",
      "\n",
      "     Purpose_furniture/equipment  Purpose_radio/TV  Purpose_repairs  ...  \\\n",
      "0                              0                 1                0  ...   \n",
      "1                              0                 1                0  ...   \n",
      "2                              0                 0                0  ...   \n",
      "3                              1                 0                0  ...   \n",
      "4                              0                 0                0  ...   \n",
      "..                           ...               ...              ...  ...   \n",
      "995                            1                 0                0  ...   \n",
      "996                            0                 0                0  ...   \n",
      "997                            0                 1                0  ...   \n",
      "998                            0                 1                0  ...   \n",
      "999                            0                 0                0  ...   \n",
      "\n",
      "     Sex_male  Housing_own  Housing_rent  Saving accounts_moderate  \\\n",
      "0           1            1             0                         0   \n",
      "1           0            1             0                         0   \n",
      "2           1            1             0                         0   \n",
      "3           1            0             0                         0   \n",
      "4           1            0             0                         0   \n",
      "..        ...          ...           ...                       ...   \n",
      "995         0            1             0                         0   \n",
      "996         1            1             0                         0   \n",
      "997         1            1             0                         0   \n",
      "998         1            0             0                         0   \n",
      "999         1            1             0                         1   \n",
      "\n",
      "     Saving accounts_no_accounts  Saving accounts_quite rich  \\\n",
      "0                              1                           0   \n",
      "1                              0                           0   \n",
      "2                              0                           0   \n",
      "3                              0                           0   \n",
      "4                              0                           0   \n",
      "..                           ...                         ...   \n",
      "995                            0                           0   \n",
      "996                            0                           0   \n",
      "997                            0                           0   \n",
      "998                            0                           0   \n",
      "999                            0                           0   \n",
      "\n",
      "     Saving accounts_rich  Checking account_moderate  \\\n",
      "0                       0                          0   \n",
      "1                       0                          1   \n",
      "2                       0                          0   \n",
      "3                       0                          0   \n",
      "4                       0                          0   \n",
      "..                    ...                        ...   \n",
      "995                     0                          0   \n",
      "996                     0                          0   \n",
      "997                     0                          0   \n",
      "998                     0                          0   \n",
      "999                     0                          1   \n",
      "\n",
      "     Checking account_no_accounts  Checking account_rich  \n",
      "0                               0                      0  \n",
      "1                               0                      0  \n",
      "2                               1                      0  \n",
      "3                               0                      0  \n",
      "4                               0                      0  \n",
      "..                            ...                    ...  \n",
      "995                             1                      0  \n",
      "996                             0                      0  \n",
      "997                             1                      0  \n",
      "998                             0                      0  \n",
      "999                             0                      0  \n",
      "\n",
      "[1000 rows x 21 columns]\n"
     ]
    }
   ],
   "source": [
    "x= df.drop(['Risk'], axis=1)\n",
    "x\n",
    "y = df['Risk']\n",
    "print(x)\n"
   ]
  },
  {
   "cell_type": "code",
   "execution_count": 17,
   "metadata": {},
   "outputs": [],
   "source": [
    "from imblearn.under_sampling import NearMiss, RandomUnderSampler\n",
    "from imblearn.over_sampling import SMOTE, ADASYN\n",
    "import lightgbm as lgb\n",
    "from sklearn.model_selection import KFold\n",
    "from sklearn.ensemble import RandomForestClassifier\n",
    "from imblearn.metrics import  geometric_mean_score\n",
    "from sklearn.pipeline import Pipeline\n",
    "from sklearn.metrics import accuracy_score, confusion_matrix, roc_curve, roc_auc_score, f1_score, precision_recall_curve, precision_score \n",
    "from sklearn.metrics import recall_score, average_precision_score, auc"
   ]
  },
  {
   "cell_type": "code",
   "execution_count": 18,
   "metadata": {},
   "outputs": [],
   "source": [
    "def sampling_modeling(sampler, model, x, y, k):\n",
    "    kf = KFold(n_splits=k, shuffle = True, random_state=1)\n",
    "    acc_score = []\n",
    "    recal_score = []\n",
    "    pres_score = []\n",
    "    _fscore = []\n",
    "    aucroc_score = []\n",
    "    gmean_score = []\n",
    "    for train_index , test_index in kf.split(x):\n",
    "        X_train , X_test = x.iloc[train_index,:],x.iloc[test_index,:]\n",
    "        y_train , y_test = y.iloc[train_index] , y.iloc[test_index]\n",
    "    \n",
    "        #sampler_nearmiss = NearMiss()\n",
    "        sampled_x, sampled_y = sampler.fit_resample(X_train, y_train)\n",
    "    #construct_pipeline = make_pipeline(sampler, model)\n",
    "        model.fit(sampled_x,sampled_y)\n",
    "        pred_values = model.predict(X_test)\n",
    "        acc, recal, precis, aucroc, gmean, _val = evaluation(pred_values, y_test)\n",
    "        #print(acc)\n",
    "        #print(precis)\n",
    "        acc_score.append(acc)\n",
    "        recal_score.append(recal)\n",
    "        pres_score.append(precis)\n",
    "        _fscore.append(_val)\n",
    "        aucroc_score.append(aucroc)\n",
    "        gmean_score.append(gmean)\n",
    "        #print(f_val)\n",
    "    \n",
    "    avg_acc_score = sum(acc_score)/k\n",
    "    avg_recal_score = sum(recal_score)/k\n",
    "    avg_precis_score = sum(pres_score)/k\n",
    "    avg_f_score = sum(_fscore)/k\n",
    "    avg_auc_score = sum(aucroc_score)/k\n",
    "    avg_gmean_score = sum(gmean_score)/k\n",
    "    print('Metrics for each fold of {0}, {1}'.format(sampler, model))\n",
    "    print('Accuracy : {0}'.format(acc_score))\n",
    "    print('Avg accuracy : {}'.format(avg_acc_score))\n",
    "    print('Recall : {0}'.format(recal_score))\n",
    "    print('Avg recall : {}'.format(avg_recal_score))\n",
    "    print('Precision : {0}'.format(pres_score))\n",
    "    print('Avg precision : {}'.format(avg_precis_score))\n",
    "    print('F1_score : {0}'.format(_fscore))\n",
    "    print('Avg f-score : {}'.format(avg_f_score))\n",
    "    print('AUC_ROC : {0}'.format(aucroc_score))\n",
    "    print('Avg AUC_ROC : {}'.format(avg_auc_score))\n",
    "    print('Geometric mean : {0}'.format(gmean_score))\n",
    "    print('Avg gmean : {}'.format(avg_gmean_score))\n",
    "    \n",
    "        \n",
    "      \n",
    "    "
   ]
  },
  {
   "cell_type": "code",
   "execution_count": 19,
   "metadata": {},
   "outputs": [],
   "source": [
    "def modelling_without_sampling(model, x, y, k):\n",
    "    kf = KFold(n_splits=k, shuffle = True, random_state=1)\n",
    "    acc_score = []\n",
    "    recal_score = []\n",
    "    pres_score = []\n",
    "    _fscore = []\n",
    "    aucroc_score = []\n",
    "    gmean_score = []\n",
    "    for train_index , test_index in kf.split(x):\n",
    "        X_train , X_test = x.iloc[train_index,:],x.iloc[test_index,:]\n",
    "        y_train , y_test = y.iloc[train_index] , y.iloc[test_index]\n",
    "        model.fit(X_train, y_train)\n",
    "        pred_values = model.predict(X_test)\n",
    "        acc, recal, precis, aucroc, gmean, _val = evaluation(pred_values, y_test)\n",
    "        #print(acc)\n",
    "        #print(precis)\n",
    "        acc_score.append(acc)\n",
    "        recal_score.append(recal)\n",
    "        pres_score.append(precis)\n",
    "        _fscore.append(_val)\n",
    "        aucroc_score.append(aucroc)\n",
    "        gmean_score.append(gmean)\n",
    "        #print(f_val)\n",
    "    \n",
    "    avg_acc_score = sum(acc_score)/k\n",
    "    avg_recal_score = sum(recal_score)/k\n",
    "    avg_precis_score = sum(pres_score)/k\n",
    "    avg_f_score = sum(_fscore)/k\n",
    "    avg_auc_score = sum(aucroc_score)/k\n",
    "    avg_gmean_score = sum(gmean_score)/k\n",
    "    print('Metrics for each fold of {0}'.format(model))\n",
    "    print('Accuracy : {0}'.format(acc_score))\n",
    "    print('Avg accuracy : {}'.format(avg_acc_score))\n",
    "    print('Recall : {0}'.format(recal_score))\n",
    "    print('Avg recall : {}'.format(avg_recal_score))\n",
    "    print('Precision : {0}'.format(pres_score))\n",
    "    print('Avg precision : {}'.format(avg_precis_score))\n",
    "    print('F1_score : {0}'.format(_fscore))\n",
    "    print('Avg f-score : {}'.format(avg_f_score))\n",
    "    print('AUC_ROC : {0}'.format(aucroc_score))\n",
    "    print('Avg AUC_ROC : {}'.format(avg_auc_score))\n",
    "    print('Geometric mean : {0}'.format(gmean_score))\n",
    "    print('Avg gmean : {}'.format(avg_gmean_score))\n",
    "    \n",
    "        \n",
    "      \n",
    "    "
   ]
  },
  {
   "cell_type": "code",
   "execution_count": 20,
   "metadata": {},
   "outputs": [],
   "source": [
    "def evaluation(pred_values, y_test):\n",
    "    \n",
    "    acc = accuracy_score(y_test, pred_values)\n",
    "    recal = recall_score(y_test, pred_values)\n",
    "    precis = precision_score(y_test, pred_values)\n",
    "    #val = f1_score(y_test, pred_values)\n",
    "    aucroc = roc_auc_score(y_test, pred_values)\n",
    "    _val = f1_score(y_test, pred_values)\n",
    "    gmean = geometric_mean_score(y_test, pred_values)\n",
    "    return acc, recal, precis, aucroc, gmean, _val\n",
    "    \n",
    "    \n",
    "   \n"
   ]
  },
  {
   "cell_type": "markdown",
   "metadata": {},
   "source": [
    "# Resampling and Modelling with balanced data"
   ]
  },
  {
   "cell_type": "code",
   "execution_count": 21,
   "metadata": {},
   "outputs": [
    {
     "name": "stdout",
     "output_type": "stream",
     "text": [
      "Metrics for each fold of NearMiss(), LGBMClassifier(objective='binary', random_state=0)\n",
      "Accuracy : [0.575, 0.625, 0.62, 0.585, 0.625]\n",
      "Avg accuracy : 0.606\n",
      "Recall : [0.7627118644067796, 0.7857142857142857, 0.7796610169491526, 0.746031746031746, 0.7777777777777778]\n",
      "Avg recall : 0.7703793381759484\n",
      "Precision : [0.3879310344827586, 0.411214953271028, 0.42201834862385323, 0.41228070175438597, 0.44545454545454544]\n",
      "Avg precision : 0.4157799167173143\n",
      "F1_score : [0.5142857142857143, 0.5398773006134969, 0.5476190476190477, 0.5310734463276836, 0.5664739884393064]\n",
      "Avg f-score : 0.5398658994570498\n",
      "AUC_ROC : [0.6295828825579998, 0.6741071428571428, 0.6664262531554274, 0.6284903255706176, 0.6662611516626115]\n",
      "Avg AUC_ROC : 0.6529735511607597\n",
      "Geometric mean : [0.615346471674249, 0.6648039453209388, 0.6567357453065586, 0.617401088282035, 0.6568622110569915]\n",
      "Avg gmean : 0.6422298923281546\n"
     ]
    }
   ],
   "source": [
    "model = lgb.LGBMClassifier(objective='binary', random_state=0, n_jobs=-1)\n",
    "sampler_nearmiss = NearMiss()\n",
    "sampling_modeling(sampler_nearmiss, model, x, y, k = 5)"
   ]
  },
  {
   "cell_type": "code",
   "execution_count": 22,
   "metadata": {},
   "outputs": [
    {
     "name": "stdout",
     "output_type": "stream",
     "text": [
      "Metrics for each fold of RandomUnderSampler(random_state=0), LGBMClassifier(objective='binary', random_state=0)\n",
      "Accuracy : [0.645, 0.62, 0.64, 0.635, 0.615]\n",
      "Avg accuracy : 0.631\n",
      "Recall : [0.5932203389830508, 0.6964285714285714, 0.711864406779661, 0.6666666666666666, 0.6507936507936508]\n",
      "Avg recall : 0.66379472693032\n",
      "Precision : [0.4268292682926829, 0.3979591836734694, 0.4329896907216495, 0.44680851063829785, 0.4270833333333333]\n",
      "Avg precision : 0.42633399733188665\n",
      "F1_score : [0.49645390070921985, 0.5064935064935066, 0.5384615384615384, 0.535031847133758, 0.5157232704402516]\n",
      "Avg f-score : 0.5184328126476548\n",
      "AUC_ROC : [0.6299435028248589, 0.6433531746031745, 0.6608967423969226, 0.643552311435523, 0.624666898389526]\n",
      "Avg AUC_ROC : 0.640482525930001\n",
      "Geometric mean : [0.6288721857330792, 0.6411601278337647, 0.6589285251817779, 0.6431370803617632, 0.6241202822793088]\n",
      "Avg gmean : 0.6392436402779389\n"
     ]
    }
   ],
   "source": [
    "model = lgb.LGBMClassifier(objective='binary', random_state=0, n_jobs=-1)\n",
    "sampler_random = RandomUnderSampler(random_state=0)\n",
    "sampling_modeling(sampler_random, model, x, y, k = 5)"
   ]
  },
  {
   "cell_type": "code",
   "execution_count": 23,
   "metadata": {},
   "outputs": [
    {
     "name": "stdout",
     "output_type": "stream",
     "text": [
      "Metrics for each fold of SMOTE(random_state=0), LGBMClassifier(objective='binary', random_state=0)\n",
      "Accuracy : [0.74, 0.695, 0.73, 0.765, 0.755]\n",
      "Avg accuracy : 0.737\n",
      "Recall : [0.5423728813559322, 0.5714285714285714, 0.5254237288135594, 0.5714285714285714, 0.5396825396825397]\n",
      "Avg recall : 0.5500672585418348\n",
      "Precision : [0.5614035087719298, 0.463768115942029, 0.543859649122807, 0.6428571428571429, 0.6296296296296297]\n",
      "Avg precision : 0.5683036092647077\n",
      "F1_score : [0.5517241379310345, 0.5119999999999999, 0.5344827586206897, 0.6050420168067226, 0.5811965811965812]\n",
      "Avg f-score : 0.5568890989110056\n",
      "AUC_ROC : [0.6825339584084625, 0.6572420634920635, 0.6705132828464959, 0.7127215849843586, 0.6968485691113427]\n",
      "Avg AUC_ROC : 0.6839718917685446\n",
      "Geometric mean : [0.6679876322658972, 0.6516158182573337, 0.6546274389178235, 0.6985759386229535, 0.6788937821678075]\n",
      "Avg gmean : 0.6703401220463631\n"
     ]
    }
   ],
   "source": [
    "model = lgb.LGBMClassifier(objective='binary', random_state=0, n_jobs=-1)\n",
    "sampler_smt = SMOTE(random_state=0)\n",
    "sampling_modeling(sampler_smt, model, x, y, k = 5)"
   ]
  },
  {
   "cell_type": "code",
   "execution_count": 24,
   "metadata": {},
   "outputs": [
    {
     "name": "stdout",
     "output_type": "stream",
     "text": [
      "Metrics for each fold of ADASYN(random_state=0), LGBMClassifier(objective='binary', random_state=0)\n",
      "Accuracy : [0.705, 0.725, 0.71, 0.74, 0.725]\n",
      "Avg accuracy : 0.721\n",
      "Recall : [0.4576271186440678, 0.5714285714285714, 0.5084745762711864, 0.5714285714285714, 0.5238095238095238]\n",
      "Avg recall : 0.5265536723163841\n",
      "Precision : [0.5, 0.5079365079365079, 0.5084745762711864, 0.5901639344262295, 0.5689655172413793]\n",
      "Avg precision : 0.5351081071750607\n",
      "F1_score : [0.4778761061946903, 0.5378151260504201, 0.5084745762711864, 0.5806451612903226, 0.5454545454545455]\n",
      "Avg f-score : 0.530053103052233\n",
      "AUC_ROC : [0.6330688784709702, 0.6780753968253969, 0.6514004087029691, 0.694473409801877, 0.6706638859923532]\n",
      "Avg AUC_ROC : 0.6655363959587132\n",
      "Geometric mean : [0.6082732887422654, 0.6696362433535825, 0.6355271031844961, 0.6834861261734088, 0.6543881449737904]\n",
      "Avg gmean : 0.6502621812855087\n"
     ]
    }
   ],
   "source": [
    "model = lgb.LGBMClassifier(objective='binary', random_state=0, n_jobs=-1)\n",
    "sampler_ada = ADASYN(random_state=0)\n",
    "sampling_modeling(sampler_ada, model, x, y, k = 5)"
   ]
  },
  {
   "cell_type": "code",
   "execution_count": 25,
   "metadata": {},
   "outputs": [
    {
     "name": "stdout",
     "output_type": "stream",
     "text": [
      "Metrics for each fold of SMOTE(random_state=0), RandomForestClassifier(random_state=0)\n",
      "Accuracy : [0.745, 0.71, 0.73, 0.72, 0.725]\n",
      "Avg accuracy : 0.7260000000000001\n",
      "Recall : [0.559322033898305, 0.48214285714285715, 0.559322033898305, 0.4603174603174603, 0.49206349206349204]\n",
      "Avg recall : 0.5106335754640839\n",
      "Precision : [0.5689655172413793, 0.48214285714285715, 0.5409836065573771, 0.5686274509803921, 0.5740740740740741]\n",
      "Avg precision : 0.546958701199216\n",
      "F1_score : [0.5641025641025641, 0.48214285714285715, 0.55, 0.5087719298245614, 0.5299145299145299]\n",
      "Avg f-score : 0.5269863761969026\n",
      "AUC_ROC : [0.6910085346796488, 0.6403769841269842, 0.6803702368073085, 0.6498667593558104, 0.66209014019233]\n",
      "Avg AUC_ROC : 0.6647425310324164\n",
      "Geometric mean : [0.678344647293749, 0.6205196554962162, 0.6695154902657099, 0.6216090959354543, 0.6398861560199373]\n",
      "Avg gmean : 0.6459750090022134\n"
     ]
    }
   ],
   "source": [
    "from sklearn.ensemble import RandomForestClassifier\n",
    "model = RandomForestClassifier(random_state=0)\n",
    "sampler_smote = SMOTE(random_state=0)\n",
    "sampling_modeling(sampler_smote, model, x, y, k = 5)"
   ]
  },
  {
   "cell_type": "code",
   "execution_count": 26,
   "metadata": {},
   "outputs": [
    {
     "name": "stdout",
     "output_type": "stream",
     "text": [
      "Metrics for each fold of ADASYN(random_state=0), RandomForestClassifier(random_state=0)\n",
      "Accuracy : [0.73, 0.745, 0.71, 0.7, 0.715]\n",
      "Avg accuracy : 0.72\n",
      "Recall : [0.5423728813559322, 0.5892857142857143, 0.5254237288135594, 0.4444444444444444, 0.4603174603174603]\n",
      "Avg recall : 0.5123688458434221\n",
      "Precision : [0.5423728813559322, 0.5409836065573771, 0.5081967213114754, 0.5283018867924528, 0.5576923076923077]\n",
      "Avg precision : 0.5355094807419091\n",
      "F1_score : [0.5423728813559322, 0.5641025641025642, 0.5166666666666667, 0.48275862068965514, 0.5043478260869565]\n",
      "Avg f-score : 0.522049711780355\n",
      "AUC_ROC : [0.6754417598269022, 0.697420634920635, 0.6563288856833753, 0.6309813463098135, 0.646217124319314]\n",
      "Avg AUC_ROC : 0.6612779502120081\n",
      "Geometric mean : [0.6622040807036309, 0.6889864882219251, 0.6431418553377397, 0.6027781048059181, 0.618900546685428]\n",
      "Avg gmean : 0.6432022151509283\n"
     ]
    }
   ],
   "source": [
    "model = RandomForestClassifier(random_state=0)\n",
    "sampler_ADASYN = ADASYN(random_state=0)\n",
    "sampling_modeling(sampler_ADASYN, model, x, y, k = 5)"
   ]
  },
  {
   "cell_type": "code",
   "execution_count": 27,
   "metadata": {},
   "outputs": [
    {
     "name": "stdout",
     "output_type": "stream",
     "text": [
      "Metrics for each fold of NearMiss(), RandomForestClassifier(random_state=0)\n",
      "Accuracy : [0.625, 0.615, 0.635, 0.55, 0.63]\n",
      "Avg accuracy : 0.611\n",
      "Recall : [0.7796610169491526, 0.6964285714285714, 0.7796610169491526, 0.746031746031746, 0.7936507936507936]\n",
      "Avg recall : 0.7590866290018832\n",
      "Precision : [0.42592592592592593, 0.3939393939393939, 0.4339622641509434, 0.3884297520661157, 0.45045045045045046]\n",
      "Avg precision : 0.4185415573065659\n",
      "F1_score : [0.5508982035928144, 0.503225806451613, 0.5575757575757576, 0.5108695652173914, 0.5747126436781609]\n",
      "Avg f-score : 0.5394563953031475\n",
      "AUC_ROC : [0.6699723524462076, 0.6398809523809523, 0.6770645510277677, 0.6029428803151431, 0.6741976595991194]\n",
      "Avg AUC_ROC : 0.652811679153838\n",
      "Geometric mean : [0.6609321825436144, 0.6373774391990981, 0.6692461217212058, 0.5857181006513773, 0.6635310339194113]\n",
      "Avg gmean : 0.6433609756069414\n"
     ]
    }
   ],
   "source": [
    "from sklearn.ensemble import RandomForestClassifier\n",
    "model = RandomForestClassifier(random_state=0)\n",
    "sampler_nearmiss = NearMiss()\n",
    "sampling_modeling(sampler_nearmiss, model, x, y, k = 5)"
   ]
  },
  {
   "cell_type": "code",
   "execution_count": 28,
   "metadata": {},
   "outputs": [
    {
     "name": "stdout",
     "output_type": "stream",
     "text": [
      "Metrics for each fold of RandomUnderSampler(random_state=0), RandomForestClassifier(random_state=0)\n",
      "Accuracy : [0.665, 0.66, 0.66, 0.635, 0.67]\n",
      "Avg accuracy : 0.658\n",
      "Recall : [0.6949152542372882, 0.6607142857142857, 0.711864406779661, 0.7301587301587301, 0.6984126984126984]\n",
      "Avg recall : 0.6992130750605327\n",
      "Precision : [0.45555555555555555, 0.43023255813953487, 0.45161290322580644, 0.45098039215686275, 0.4835164835164835]\n",
      "Avg precision : 0.4543795785188486\n",
      "F1_score : [0.5503355704697986, 0.5211267605633803, 0.5526315789473685, 0.5575757575757576, 0.5714285714285714]\n",
      "Avg f-score : 0.5506196477969754\n",
      "AUC_ROC : [0.6736987618704171, 0.6602182539682538, 0.6750811395600432, 0.6606998030355695, 0.6776735024910208]\n",
      "Avg AUC_ROC : 0.6694742921850608\n",
      "Geometric mean : [0.6733645982655901, 0.6602180676302314, 0.6740782864343999, 0.6570385735815971, 0.6773560819325163]\n",
      "Avg gmean : 0.6684111215688671\n"
     ]
    }
   ],
   "source": [
    "from imblearn.under_sampling import RandomUnderSampler\n",
    "model = RandomForestClassifier(random_state=0)\n",
    "sampler_random_under = RandomUnderSampler(random_state=0)\n",
    "sampling_modeling(sampler_random_under, model, x, y, k = 5)"
   ]
  },
  {
   "cell_type": "code",
   "execution_count": 29,
   "metadata": {},
   "outputs": [
    {
     "name": "stdout",
     "output_type": "stream",
     "text": [
      "Metrics for each fold of RandomUnderSampler(random_state=0), AdaBoostClassifier(random_state=0)\n",
      "Accuracy : [0.695, 0.655, 0.645, 0.685, 0.67]\n",
      "Avg accuracy : 0.67\n",
      "Recall : [0.6949152542372882, 0.6785714285714286, 0.7457627118644068, 0.7619047619047619, 0.5873015873015873]\n",
      "Avg recall : 0.6936911487758946\n",
      "Precision : [0.4880952380952381, 0.42696629213483145, 0.44, 0.5, 0.4805194805194805]\n",
      "Avg precision : 0.46711620214991\n",
      "F1_score : [0.5734265734265734, 0.5241379310344828, 0.5534591194968553, 0.6037735849056604, 0.5285714285714287]\n",
      "Avg f-score : 0.5566737274870001\n",
      "AUC_ROC : [0.694975357615098, 0.6622023809523809, 0.6742997956485154, 0.7057698992005561, 0.6476653921909397]\n",
      "Avg AUC_ROC : 0.676982565121498\n",
      "Geometric mean : [0.6949753550161454, 0.6620000359660472, 0.670502249077175, 0.7035339563992226, 0.6448462384949795]\n",
      "Avg gmean : 0.6751715669907139\n"
     ]
    }
   ],
   "source": [
    "from sklearn.ensemble import AdaBoostClassifier\n",
    "model = AdaBoostClassifier(random_state=0)\n",
    "sampler_random_under = RandomUnderSampler(random_state=0)\n",
    "sampling_modeling(sampler_random_under, model, x, y, k = 5)"
   ]
  },
  {
   "cell_type": "code",
   "execution_count": 30,
   "metadata": {},
   "outputs": [
    {
     "name": "stdout",
     "output_type": "stream",
     "text": [
      "Metrics for each fold of NearMiss(), AdaBoostClassifier(random_state=0)\n",
      "Accuracy : [0.585, 0.615, 0.62, 0.565, 0.615]\n",
      "Avg accuracy : 0.6\n",
      "Recall : [0.7966101694915254, 0.7142857142857143, 0.864406779661017, 0.8095238095238095, 0.7142857142857143]\n",
      "Avg recall : 0.7798224374495561\n",
      "Precision : [0.3983050847457627, 0.39603960396039606, 0.42857142857142855, 0.40476190476190477, 0.4326923076923077]\n",
      "Avg precision : 0.41207406594636\n",
      "F1_score : [0.5310734463276836, 0.5095541401273885, 0.5730337078651685, 0.5396825396825397, 0.5389221556886228]\n",
      "Avg f-score : 0.5384531979382806\n",
      "AUC_ROC : [0.6465320351003727, 0.6453373015873016, 0.6910686380574588, 0.6310392770246784, 0.6418143899895725]\n",
      "Avg AUC_ROC : 0.6511583283518767\n",
      "Geometric mean : [0.6288721857330792, 0.641643475152946, 0.6689766447134129, 0.6052717082487794, 0.6377096661902267]\n",
      "Avg gmean : 0.6364947360076888\n"
     ]
    }
   ],
   "source": [
    "model = AdaBoostClassifier(random_state=0)\n",
    "sampler_nearmiss = NearMiss()\n",
    "sampling_modeling(sampler_nearmiss, model, x, y, k = 5)"
   ]
  },
  {
   "cell_type": "code",
   "execution_count": 31,
   "metadata": {},
   "outputs": [
    {
     "name": "stdout",
     "output_type": "stream",
     "text": [
      "Metrics for each fold of SMOTE(random_state=0), AdaBoostClassifier(random_state=0)\n",
      "Accuracy : [0.705, 0.72, 0.725, 0.71, 0.72]\n",
      "Avg accuracy : 0.716\n",
      "Recall : [0.4915254237288136, 0.625, 0.6271186440677966, 0.5238095238095238, 0.5079365079365079]\n",
      "Avg recall : 0.5550780199085283\n",
      "Precision : [0.5, 0.5, 0.5285714285714286, 0.5409836065573771, 0.5614035087719298]\n",
      "Avg precision : 0.5261917087801471\n",
      "F1_score : [0.49572649572649574, 0.5555555555555556, 0.5736434108527132, 0.5322580645161291, 0.5333333333333333]\n",
      "Avg f-score : 0.5381033719968453\n",
      "AUC_ROC : [0.6429258324317828, 0.6909722222222221, 0.6965380454381537, 0.6597149808828642, 0.6627273780558451]\n",
      "Avg AUC_ROC : 0.6705756918061735\n",
      "Geometric mean : [0.6248452146353324, 0.6878155841341324, 0.6930701230439706, 0.6455645302670866, 0.6443968995521887]\n",
      "Avg gmean : 0.659138470326542\n"
     ]
    }
   ],
   "source": [
    "model = AdaBoostClassifier(random_state=0)\n",
    "sampler_smt1 = SMOTE(random_state=0)\n",
    "sampling_modeling(sampler_smt1, model, x, y, k = 5)"
   ]
  },
  {
   "cell_type": "code",
   "execution_count": 32,
   "metadata": {},
   "outputs": [
    {
     "name": "stdout",
     "output_type": "stream",
     "text": [
      "Metrics for each fold of ADASYN(random_state=0), AdaBoostClassifier(random_state=0)\n",
      "Accuracy : [0.685, 0.715, 0.705, 0.725, 0.715]\n",
      "Avg accuracy : 0.709\n",
      "Recall : [0.4745762711864407, 0.5535714285714286, 0.5932203389830508, 0.5396825396825397, 0.49206349206349204]\n",
      "Avg recall : 0.5306228140973903\n",
      "Precision : [0.4666666666666667, 0.49206349206349204, 0.5, 0.5666666666666667, 0.5535714285714286]\n",
      "Avg precision : 0.5157936507936508\n",
      "F1_score : [0.47058823529411764, 0.5210084033613446, 0.5426356589147286, 0.5528455284552845, 0.5210084033613446]\n",
      "Avg f-score : 0.521617245877364\n",
      "AUC_ROC : [0.6238129582882558, 0.6656746031746033, 0.6724966943142203, 0.6749507588923647, 0.6547908701193372]\n",
      "Avg AUC_ROC : 0.6583451769577563\n",
      "Geometric mean : [0.6056987850006141, 0.6561673228343176, 0.6678076544552033, 0.6612571631378988, 0.6342482826328415]\n",
      "Avg gmean : 0.645035841612175\n"
     ]
    }
   ],
   "source": [
    "model = AdaBoostClassifier(random_state=0)\n",
    "sampler_ada = ADASYN(random_state=0)\n",
    "sampling_modeling(sampler_ada, model, x, y, k = 5)"
   ]
  },
  {
   "cell_type": "markdown",
   "metadata": {},
   "source": [
    "# Modelling with Imbalanced data"
   ]
  },
  {
   "cell_type": "code",
   "execution_count": 33,
   "metadata": {},
   "outputs": [
    {
     "name": "stdout",
     "output_type": "stream",
     "text": [
      "Metrics for each fold of LGBMClassifier(objective='binary', random_state=0)\n",
      "Accuracy : [0.735, 0.72, 0.73, 0.76, 0.77]\n",
      "Avg accuracy : 0.7430000000000001\n",
      "Recall : [0.4576271186440678, 0.48214285714285715, 0.4576271186440678, 0.47619047619047616, 0.49206349206349204]\n",
      "Avg recall : 0.47313021253699217\n",
      "Precision : [0.5625, 0.5, 0.5510204081632653, 0.6666666666666666, 0.6888888888888889]\n",
      "Avg precision : 0.593815192743764\n",
      "F1_score : [0.5046728971962616, 0.4909090909090909, 0.4999999999999999, 0.5555555555555556, 0.5740740740740741]\n",
      "Avg f-score : 0.5250423235469964\n",
      "AUC_ROC : [0.6543454742156509, 0.6473214285714286, 0.6507993749248708, 0.6833507125477929, 0.6949368555207972]\n",
      "Avg AUC_ROC : 0.666150769156108\n",
      "Geometric mean : [0.6240752264012066, 0.6258922202972101, 0.6214694729477759, 0.6511933912532873, 0.6646650521583435]\n",
      "Avg gmean : 0.6374590726115648\n"
     ]
    }
   ],
   "source": [
    "model = lgb.LGBMClassifier(objective='binary', random_state=0, n_jobs=-1)\n",
    "modelling_without_sampling(model, x, y, k = 5)"
   ]
  },
  {
   "cell_type": "code",
   "execution_count": 34,
   "metadata": {},
   "outputs": [
    {
     "name": "stdout",
     "output_type": "stream",
     "text": [
      "Metrics for each fold of AdaBoostClassifier(random_state=0)\n",
      "Accuracy : [0.755, 0.73, 0.75, 0.715, 0.715]\n",
      "Avg accuracy : 0.7329999999999999\n",
      "Recall : [0.4067796610169492, 0.42857142857142855, 0.559322033898305, 0.38095238095238093, 0.38095238095238093]\n",
      "Avg recall : 0.43131557707828894\n",
      "Precision : [0.631578947368421, 0.5217391304347826, 0.5789473684210527, 0.5714285714285714, 0.5714285714285714]\n",
      "Avg precision : 0.5750245178162798\n",
      "F1_score : [0.4948453608247423, 0.47058823529411764, 0.5689655172413793, 0.4571428571428571, 0.4571428571428571]\n",
      "Avg f-score : 0.4897369655291907\n",
      "AUC_ROC : [0.6537444404375525, 0.6378968253968254, 0.694554633970429, 0.6247827598192561, 0.6247827598192561]\n",
      "Avg AUC_ROC : 0.6471522838886639\n",
      "Geometric mean : [0.6053017356069132, 0.6025738445163696, 0.6812622721445315, 0.575239292215859, 0.575239292215859]\n",
      "Avg gmean : 0.6079232873399064\n"
     ]
    }
   ],
   "source": [
    "model = AdaBoostClassifier(random_state=0)\n",
    "modelling_without_sampling(model, x, y, k = 5)"
   ]
  },
  {
   "cell_type": "code",
   "execution_count": 35,
   "metadata": {},
   "outputs": [
    {
     "name": "stdout",
     "output_type": "stream",
     "text": [
      "Metrics for each fold of RandomForestClassifier(random_state=0)\n",
      "Accuracy : [0.745, 0.69, 0.755, 0.705, 0.715]\n",
      "Avg accuracy : 0.722\n",
      "Recall : [0.423728813559322, 0.26785714285714285, 0.4406779661016949, 0.31746031746031744, 0.31746031746031744]\n",
      "Avg recall : 0.3534369114877589\n",
      "Precision : [0.5952380952380952, 0.4166666666666667, 0.6190476190476191, 0.5555555555555556, 0.5882352941176471]\n",
      "Avg precision : 0.5549486461251167\n",
      "F1_score : [0.49504950495049505, 0.32608695652173914, 0.5148514851485149, 0.40404040404040403, 0.41237113402061853]\n",
      "Avg f-score : 0.4304798969363543\n",
      "AUC_ROC : [0.6515807188363987, 0.5610119047619047, 0.6636013943983653, 0.6003359981462172, 0.6076352682192099]\n",
      "Avg AUC_ROC : 0.6168330568724191\n",
      "Geometric mean : [0.6104432343969127, 0.47832482985638836, 0.625037563482319, 0.5295136069514208, 0.5338718171395691]\n",
      "Avg gmean : 0.5554382103653219\n"
     ]
    }
   ],
   "source": [
    "model = RandomForestClassifier(random_state=0)\n",
    "modelling_without_sampling(model, x, y, k = 5)"
   ]
  },
  {
   "cell_type": "code",
   "execution_count": null,
   "metadata": {},
   "outputs": [],
   "source": []
  }
 ],
 "metadata": {
  "kernelspec": {
   "display_name": "Python 3",
   "language": "python",
   "name": "python3"
  },
  "language_info": {
   "codemirror_mode": {
    "name": "ipython",
    "version": 3
   },
   "file_extension": ".py",
   "mimetype": "text/x-python",
   "name": "python",
   "nbconvert_exporter": "python",
   "pygments_lexer": "ipython3",
   "version": "3.7.6"
  }
 },
 "nbformat": 4,
 "nbformat_minor": 4
}
